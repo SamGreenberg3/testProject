{
 "cells": [
  {
   "cell_type": "code",
   "execution_count": 2,
   "metadata": {},
   "outputs": [],
   "source": [
    "from prob140 import *\n",
    "from datascience import *\n",
    "import numpy as np\n",
    "from scipy import special\n",
    "\n",
    "import matplotlib.pyplot as plt\n",
    "%matplotlib inline\n",
    "import matplotlib\n",
    "matplotlib.style.use('fivethirtyeight')"
   ]
  },
  {
   "cell_type": "markdown",
   "metadata": {},
   "source": [
    "# Homework 1 #"
   ]
  },
  {
   "cell_type": "markdown",
   "metadata": {},
   "source": [
    "### Instructions\n",
    "\n",
    "Your homeworks have two components: a written portion and a portion that also involves code.  Written work should be completed on paper, and coding questions should be done in the notebook.  You are welcome to LaTeX your answers to the written portions, but staff will not be able to assist you with LaTeX related issues. It is your responsibility to ensure that both components of the homework are submitted completely and properly to Gradescope. Refer to the bottom of the notebook for submission instructions."
   ]
  },
  {
   "cell_type": "markdown",
   "metadata": {},
   "source": [
    "### How to Do Your Homework ###\n",
    "The point of homework is for you to try your hand at using what you've learned in class. The steps to follow:\n",
    "\n",
    "- Go to lecture and sections, and also go over the relevant text sections before starting on the homework. This will remind you what was covered in class, and the text will typically contain examples not covered in lecture. The weekly Preparation Guide will list what you should read.\n",
    "- Work on some of the practice problems before starting on the homework.\n",
    "- Attempt the homework problems by yourself with the text, section work, and practice materials all at hand. Sometimes the week's lab will help as well. The two steps above will help this step go faster and be more fruitful.\n",
    "- At this point, seek help if you need it. Don't ask how to do the problem — ask how to get started, or for a nudge to get you past where you are stuck.\n",
    "- For a good measure of your understanding, keep track of the fraction of the homework you can do by yourself or with minimal help. It's a better measure than your homework score, and only you can measure it."
   ]
  },
  {
   "cell_type": "markdown",
   "metadata": {},
   "source": [
    "### Rules for Homework ###\n",
    "- Every answer should contain a calculation or reasoning. For example, a calculation such as $(1/3)(0.8) + (2/3)(0.7)$ or `sum([(1/3)*0.8, (2/3)*0.7])`is fine without further explanation or simplification. If we want you to simplify, we'll ask you to. But just ${5 \\choose 2}$ by itself is not fine; write \"we want any 2 out of the 5 frogs and they can appear in any order\" or whatever reasoning you used. Reasoning can be brief and abbreviated, e.g. \"product rule\" or \"not mutually excl.\"\n",
    "- You may consult others (see \"How to Do Your Homework\" above) but you must write up your own answers using your own words, notation, and sequence of steps.\n",
    "- We'll be using Gradescope. You must submit the homework according to the instructions in at the end of homework set."
   ]
  },
  {
   "cell_type": "markdown",
   "metadata": {},
   "source": [
    "### 1. First Repeat ###\n",
    "Suppose you roll a die rolled repeatedly. Remember that in this class, dice are assumed fair unless the description says otherwise.\n",
    "\n",
    "For $k = 1, 2, 3, \\ldots, 6 $ let $D_k$ be the event that the first $k$ rolls all show different faces. \n",
    "\n",
    "**a)** For $k = 1, 2, 3, \\ldots, 6 $ let $D_k$ be the event that the first $k$ rolls all show different faces. Note that $P(D_1) = 0$ because you can't have different faces with just one roll.\n",
    "\n",
    "Without doing any calculations, draw a Venn diagram that shows the events $D_4$ and $D_5$. Make it clear which is which, and justify your answer. Then enter one of the symbols $\\le$, $=$, and $\\ge$ in the blank below.\n",
    "\n",
    "$P(D_5) ~ \\underline{~~~~~~~~~~} P(D_4)$\n",
    "\n",
    "**b)** For $k = 2, 3, \\ldots, 7$ let $F_k$ be the event that the $k$th roll is the first time you see a face that has already appeared. Write the event $F_k$ in terms of the events $D_1, D_2, \\ldots, D_6$.\n",
    "\n",
    "\n",
    "\n",
    "**c)** In the Venn diagram that you drew in Part **a**, there's a region that corresponds to one of the events $F_i$ for some $i$.  Say which $i$ it is, and shade that event $F_i$ in your diagram. There's no need to draw a new diagram. Just shade the appropriate region in the diagram you already drew.\n",
    "\n",
    "**d)** Thus far, you haven't used any fractions – just logic. Now for some calculation. In the code cell below, define a function `prob_D` that takes $k$ as its argument and returns $P(D_k)$."
   ]
  },
  {
   "cell_type": "code",
   "execution_count": null,
   "metadata": {},
   "outputs": [],
   "source": [
    "#student\n",
    "def prob_D(k):\n",
    "    rolls = np.arange(k)\n",
    "    return ..."
   ]
  },
  {
   "cell_type": "code",
   "execution_count": 10,
   "metadata": {},
   "outputs": [],
   "source": [
    "#solution\n",
    "def prob_D(k):\n",
    "    rolls = np.arange(k)\n",
    "    return np.prod( (6 - rolls) / 6 )"
   ]
  },
  {
   "cell_type": "markdown",
   "metadata": {},
   "source": [
    "Run the cell below to make sure that it is consistent with your answer to Part **a**."
   ]
  },
  {
   "cell_type": "code",
   "execution_count": null,
   "metadata": {},
   "outputs": [],
   "source": [
    "#student\n",
    "prob_D(4), prob_D(5)"
   ]
  },
  {
   "cell_type": "code",
   "execution_count": 11,
   "metadata": {},
   "outputs": [
    {
     "data": {
      "text/plain": [
       "(0.2777777777777778, 0.09259259259259259)"
      ]
     },
     "execution_count": 11,
     "metadata": {},
     "output_type": "execute_result"
    }
   ],
   "source": [
    "#solution\n",
    "prob_D(4), prob_D(5)"
   ]
  },
  {
   "cell_type": "markdown",
   "metadata": {},
   "source": [
    "**d)** In the code cell below, define a function `prob_F` that takes $k$ as its argument and returns $P(F_k)$. Use your function `prob_D` in your definition. \n",
    "\n",
    "Then use `apply` to complete the table `first_repeat`. Its first column contains $k$ and its second column should contain $P(F_k)$. For a reminder of the use of `apply`, see the definition of the array `different` in [Section 1.4](http://prob140.org/textbook/chapters/Chapter_01/04_Birthday_Problem)."
   ]
  },
  {
   "cell_type": "code",
   "execution_count": null,
   "metadata": {},
   "outputs": [],
   "source": [
    "#student\n",
    "first_repeat = Table().with_column('k', np.arange(2, 8))\n",
    "\n",
    "def prob_F(k):\n",
    "    return ...\n",
    "\n",
    "all_probs_F_k = ...apply...\n",
    "\n",
    "first_repeat = first_repeat.with_column('P(F_k)', all_probs_F_k)\n",
    "\n",
    "first_repeat\n"
   ]
  },
  {
   "cell_type": "code",
   "execution_count": 12,
   "metadata": {},
   "outputs": [
    {
     "data": {
      "text/html": [
       "<table border=\"1\" class=\"dataframe\">\n",
       "    <thead>\n",
       "        <tr>\n",
       "            <th>k</th> <th>P(F_k)</th>\n",
       "        </tr>\n",
       "    </thead>\n",
       "    <tbody>\n",
       "        <tr>\n",
       "            <td>2   </td> <td>0.166667 </td>\n",
       "        </tr>\n",
       "        <tr>\n",
       "            <td>3   </td> <td>0.277778 </td>\n",
       "        </tr>\n",
       "        <tr>\n",
       "            <td>4   </td> <td>0.277778 </td>\n",
       "        </tr>\n",
       "        <tr>\n",
       "            <td>5   </td> <td>0.185185 </td>\n",
       "        </tr>\n",
       "        <tr>\n",
       "            <td>6   </td> <td>0.0771605</td>\n",
       "        </tr>\n",
       "        <tr>\n",
       "            <td>7   </td> <td>0.0154321</td>\n",
       "        </tr>\n",
       "    </tbody>\n",
       "</table>"
      ],
      "text/plain": [
       "k    | P(F_k)\n",
       "2    | 0.166667\n",
       "3    | 0.277778\n",
       "4    | 0.277778\n",
       "5    | 0.185185\n",
       "6    | 0.0771605\n",
       "7    | 0.0154321"
      ]
     },
     "execution_count": 12,
     "metadata": {},
     "output_type": "execute_result"
    }
   ],
   "source": [
    "#solution\n",
    "first_repeat = Table().with_column('k', np.arange(2, 8))\n",
    "\n",
    "def prob_F(k):\n",
    "    return prob_D(k-1) - prob_D(k)\n",
    "\n",
    "all_probs_F_k = first_repeat.apply(prob_F, 'k')\n",
    "\n",
    "first_repeat = first_repeat.with_column('P(F_k)', all_probs_F_k)\n",
    "\n",
    "first_repeat"
   ]
  },
  {
   "cell_type": "markdown",
   "metadata": {},
   "source": [
    "**e)** Run the cell below. If you created `all_probs_F_k` correctly, the sum should be a recognizable special value. Explain why the sum comes out that way."
   ]
  },
  {
   "cell_type": "code",
   "execution_count": 13,
   "metadata": {},
   "outputs": [
    {
     "data": {
      "text/plain": [
       "1.0"
      ]
     },
     "execution_count": 13,
     "metadata": {},
     "output_type": "execute_result"
    }
   ],
   "source": [
    "sum(all_probs_F_k)"
   ]
  },
  {
   "cell_type": "markdown",
   "metadata": {},
   "source": [
    "#solution\n",
    "\n",
    "### [Student Solution] First Repeat ###\n",
    "\n",
    "**a)** $D_5 \\subseteq D_4$ because if the first five rolls are all different then the first four had to be different. In the blank: $\\le$\n",
    "\n",
    "**b)** $F_k = D_{k-1} \\backslash D_k$\n",
    "\n",
    "**c)** $i=5$. It's the ring of points that are in $D_4$ but not in $D_5$.\n",
    "\n",
    "**e)** The first repetition has to happen somewhere in the rolls 2 through 7. Also first repetition can't happen on two different rolls, so $F_2, F_2, \\ldots, F_7$ are mutually exclusive. So the probabilities add up to 1. \n",
    "\n",
    "You can also establish this algebraically using Part **b** and the difference rule, but the solution above is more illuminating."
   ]
  },
  {
   "cell_type": "markdown",
   "metadata": {},
   "source": [
    "### 2. A Different Approximation ###\n",
    "\n",
    "At the end of [Section 1.5](http://prob140.org/textbook/chapters/Chapter_01/05_An_Exponential_Approximation) of the textbook, an approximate value of the chance of a collison in $n$ trials involving $N$ available codes is:\n",
    "\n",
    "Approximation 1:\n",
    "$$\n",
    "P(\\text{collision}) ~ \\sim ~ 1 - e^{-\\frac{n^2}{2N}}\n",
    "$$\n",
    "\n",
    "A simpler approximation that is often used is Approximation 2:\n",
    "\n",
    "$$\n",
    "P(\\text{collision}) ~ \\approx ~ \\frac{n^2}{2N}\n",
    "$$\n",
    "\n",
    "See [Wikipedia](https://en.wikipedia.org/wiki/Birthday_attack#Simple_approximation), for example, and keep in mind that their $H$ is our $N$.\n",
    "\n",
    "**a)** Derive Approximation 2 from Approximation 1. Refer to [properties of the exponential function](http://prob140.org/resources/exponential_approximations/) if you need to.\n",
    "\n",
    "**b)** As you have seen, for $N = 365$ the chance of a collision is just over 0.5 when $n = 23$. Use Approximation 2 to find an approximate value of $n$ by setting $P(\\text{collision})$ to be 0.5 and $N$ to be 365. Use the code cell below."
   ]
  },
  {
   "cell_type": "code",
   "execution_count": null,
   "metadata": {},
   "outputs": [],
   "source": [
    "#student\n",
    "N = 365\n",
    "p_collision = 0.5\n",
    "\n",
    "\"\"\"Note: The value of n below is an approximation\"\"\"\n",
    "\n",
    "n = ...\n",
    "n"
   ]
  },
  {
   "cell_type": "code",
   "execution_count": 15,
   "metadata": {},
   "outputs": [
    {
     "data": {
      "text/plain": [
       "19.1049731745428"
      ]
     },
     "execution_count": 15,
     "metadata": {},
     "output_type": "execute_result"
    }
   ],
   "source": [
    "#solution\n",
    "N = 365\n",
    "p_collision = 0.5\n",
    "\n",
    "\"\"\"Note: The value of n below is an approximation\"\"\"\n",
    "\n",
    "n = (p_collision * 2*N) ** 0.5\n",
    "n"
   ]
  },
  {
   "cell_type": "markdown",
   "metadata": {},
   "source": [
    "**c)** The answer to **b** is not great as an approximation to 23, but it's not terrible either. The simple approximation is a great way to get a rough sense of how many trials you need to for a specified collision probability when $N$ is too large for exact calculations. \n",
    "\n",
    "For example, suppose you use a 64-bit hash. Then there are $N = 2^{64} \\approx 1.8 \\times 10^{19}$ hash values. Use Approximation 2 to find an approximate number of trials $n$ so that the probability of a collision is about 0.25. Use the code cell below to write an expression that evaluates to the numerical value of the $n$ that you found."
   ]
  },
  {
   "cell_type": "code",
   "execution_count": null,
   "metadata": {},
   "outputs": [],
   "source": [
    "#student\n",
    "\n",
    "..."
   ]
  },
  {
   "cell_type": "code",
   "execution_count": 17,
   "metadata": {},
   "outputs": [
    {
     "data": {
      "text/plain": [
       "3037000499.97605"
      ]
     },
     "execution_count": 17,
     "metadata": {},
     "output_type": "execute_result"
    }
   ],
   "source": [
    "#solution\n",
    "(0.25 * 2 * (2 ** 64)) ** 0.5"
   ]
  },
  {
   "cell_type": "markdown",
   "metadata": {},
   "source": [
    "#solution\n",
    "\n",
    "### [Student Solution] A Different Approximation ###\n",
    "\n",
    "**a)** Use the approximation $$e^x \\sim 1 + x$$ for small $x$. \n",
    "\n",
    "Then $e^{-\\frac{n^2}{2N}} \\sim 1 - \\frac{n^2}{2N}$, so $1 - e^{-\\frac{n^2}{2N}} \\sim 1 - (1 - \\frac{n^2}{2N}) = \\frac{n^2}{2N}$."
   ]
  },
  {
   "cell_type": "markdown",
   "metadata": {},
   "source": [
    "### 3. Heads in Coin Tossing ###\n",
    "This is one of the fundamental models of probability theory. Note that unless otherwise specified, coins in this course are assumed to be fair.\n",
    "\n",
    "This exercise is a series of quick observations. Before you start, look over some of the Combinatorics exercises in the [Math Prerequisites](http://prob140.org/assets/prereq_math_sp19.pdf) set.\n",
    "\n",
    "Suppose you toss a coin $n$ times and note down the sequence of heads (H) and tails (T). \n",
    "\n",
    "Fix an integer $k$ such that $0 \\le k \\le n$.\n",
    "\n",
    "**a)** In total, how many possible sequences are there? How many sequences have $k$ heads? \n",
    "\n",
    "[That means exactly $k$ heads, now and throughout the course. To answer the second question, it might help to imagine that there are $n$ empty spaces and you have to write the letter H in $k$ of them.]\n",
    "\n",
    "**b)** What is the chance that you get $k$ heads in your $n$ tosses? Why?\n",
    "\n",
    "**c)** Does your answer in **b** make sense in the cases $k=0$ and $k=n$? Explain.\n",
    "\n",
    "**d)** `SciPy` is a Python library for scientific computing. You will be using it a lot in this course. In particular, the `special` module of `SciPy` computes combinatorial terms and has been imported in this notebook. \n",
    "\n",
    "To calculate $\\binom{n}{k}$, use `special.comb(n, k)`."
   ]
  },
  {
   "cell_type": "code",
   "execution_count": 5,
   "metadata": {},
   "outputs": [
    {
     "data": {
      "text/plain": [
       "45.0"
      ]
     },
     "execution_count": 5,
     "metadata": {},
     "output_type": "execute_result"
    }
   ],
   "source": [
    "# 10 choose 2\n",
    "special.comb(10, 2)"
   ]
  },
  {
   "cell_type": "markdown",
   "metadata": {},
   "source": [
    "Define a function `chance_of_heads` that takes `n` and `k` as its arguments and returns the chance of `k` heads in `n` tosses of a fair coin. Do not use any built-in `SciPy` probability functions; just use your answer to **b**.\n",
    "\n",
    "We have started the code for you. Try to ignore the fact that we have converted the integer `n` to a `float`. It won't affect `special.comb` and it will help ensure that the calculation is accurate when `n` and `k` are large."
   ]
  },
  {
   "cell_type": "code",
   "execution_count": null,
   "metadata": {},
   "outputs": [],
   "source": [
    "#student\n",
    "def chance_of_heads(n, k):\n",
    "    \"\"\"Returns the chance of k heads in n tosses of a fair coin\"\"\"\n",
    "    n = float(n)\n",
    "    return ..."
   ]
  },
  {
   "cell_type": "code",
   "execution_count": 6,
   "metadata": {},
   "outputs": [],
   "source": [
    "#solution\n",
    "def chance_of_heads(n, k):\n",
    "    \"\"\"Returns the chance of k heads in n tosses of a fair coin\"\"\"\n",
    "    n = float(n)\n",
    "    return special.comb(n, k) / 2**n"
   ]
  },
  {
   "cell_type": "markdown",
   "metadata": {},
   "source": [
    "To check whether your function is working correctly, list all possible outcomes of two tosses of a coin and hence calculate P(0 heads), P(1 head), and P(2 heads). You don't have to turn this in, but make sure it agrees with the output of the cell below."
   ]
  },
  {
   "cell_type": "code",
   "execution_count": 7,
   "metadata": {},
   "outputs": [
    {
     "data": {
      "text/plain": [
       "(0.25, 0.5, 0.25)"
      ]
     },
     "execution_count": 7,
     "metadata": {},
     "output_type": "execute_result"
    }
   ],
   "source": [
    "chance_of_heads(2, 0), chance_of_heads(2, 1), chance_of_heads(2, 2)"
   ]
  },
  {
   "cell_type": "markdown",
   "metadata": {},
   "source": [
    "**e)** A class has 8 GSIs. Each GSI tosses a coin 20 times and notes the number of heads. Write an expression that evaluates to the chance that none of the GSIs gets exactly 10 heads. Your expression should use your function `chance_of_heads`."
   ]
  },
  {
   "cell_type": "code",
   "execution_count": null,
   "metadata": {},
   "outputs": [],
   "source": [
    "#student\n",
    "..."
   ]
  },
  {
   "cell_type": "code",
   "execution_count": 8,
   "metadata": {},
   "outputs": [
    {
     "data": {
      "text/plain": [
       "0.21212249859944513"
      ]
     },
     "execution_count": 8,
     "metadata": {},
     "output_type": "execute_result"
    }
   ],
   "source": [
    "#solution\n",
    "(1 - chance_of_heads(20, 10)) ** 8"
   ]
  },
  {
   "cell_type": "markdown",
   "metadata": {},
   "source": [
    "#solution\n",
    "\n",
    "\n",
    "### [Student Solution] Heads in Coin Tossing ###\n",
    "\n",
    "**a)** Total $2^n$ (product rule of counting), among which $\\binom{n}{k}$ have $k$ heads. You just have to choose $k$ of the $n$ spots in which to write H; the rest are T.\n",
    "\n",
    "**b)** $\\binom{n}{k}/2^n$ because all the sequences are equally likely.\n",
    "\n",
    "**c)** $k=0$ is the event \"all tails\" and has chance $1/2^n$, which is consistent with the formula because $\\binom{n}{0} = 1$. Do $k=n$ analogously."
   ]
  },
  {
   "cell_type": "markdown",
   "metadata": {},
   "source": [
    "### 4. More Approximations ###\n",
    "While it is great to have exact formulas for probabilities, if the formulas are complicated then it can be hard to tell how big the probabilities are. So it is useful to have good approximations that have simpler forms and can quickly give us a sense of the magnitude.\n",
    "\n",
    "You have seen one such approximation already in the birthday problem. Here are two more.\n",
    "\n",
    "**a)** There is a bet for which your chance of winning is $1/M$. The chance is small because $M$ is very large, but you are stubborn and decide to bet anyway. In fact you bet over and over again, hoping for a win. Assume that the bets are independent of each other. What is the smallest number of times you have to bet so that your chance of winning at least once is at least 1/2? Explain why the answer is roughly a linear function of $M$ (when $M$ is large).\n",
    "\n",
    "**b)** In the previous exercise you found the chance of getting $m$ heads in $2m$ tosses of a coin. The chance involves some factorials, and factorials get large very quickly. *Stirling's approximation* says that for large $n$\n",
    "\n",
    "$$\n",
    "n! ~ \\sim ~ \\sqrt{2 \\pi n} \\cdot (n/e)^n\n",
    "$$\n",
    "\n",
    "where the symbol $\\sim$ is read as \"is asymptotically equivalent to\" and means that the ratio of the two sides goes to 1 as $n$ tends to $\\infty$.\n",
    "\n",
    "Let $m$ be a positive integer. Use Stirling's formula to approximate the chance of getting exactly $m$ heads in $2m$ tosses of a fair coin, and say what the limit is as $m \\to \\infty$. Later in the course we will see why this doesn't contradict the law of averages.\n",
    "\n",
    "**c)** For the number of tosses $2m = 50, 100, 150, \\ldots, 400$, compare the approximation in **b** to the exact value, as follows. The table `chance_and_approx` starts off with just two columns:"
   ]
  },
  {
   "cell_type": "code",
   "execution_count": 9,
   "metadata": {},
   "outputs": [
    {
     "data": {
      "text/html": [
       "<table border=\"1\" class=\"dataframe\">\n",
       "    <thead>\n",
       "        <tr>\n",
       "            <th>Tosses</th> <th>Heads</th>\n",
       "        </tr>\n",
       "    </thead>\n",
       "    <tbody>\n",
       "        <tr>\n",
       "            <td>50    </td> <td>25   </td>\n",
       "        </tr>\n",
       "        <tr>\n",
       "            <td>100   </td> <td>50   </td>\n",
       "        </tr>\n",
       "        <tr>\n",
       "            <td>150   </td> <td>75   </td>\n",
       "        </tr>\n",
       "        <tr>\n",
       "            <td>200   </td> <td>100  </td>\n",
       "        </tr>\n",
       "        <tr>\n",
       "            <td>250   </td> <td>125  </td>\n",
       "        </tr>\n",
       "        <tr>\n",
       "            <td>300   </td> <td>150  </td>\n",
       "        </tr>\n",
       "        <tr>\n",
       "            <td>350   </td> <td>175  </td>\n",
       "        </tr>\n",
       "        <tr>\n",
       "            <td>400   </td> <td>200  </td>\n",
       "        </tr>\n",
       "    </tbody>\n",
       "</table>"
      ],
      "text/plain": [
       "Tosses | Heads\n",
       "50     | 25\n",
       "100    | 50\n",
       "150    | 75\n",
       "200    | 100\n",
       "250    | 125\n",
       "300    | 150\n",
       "350    | 175\n",
       "400    | 200"
      ]
     },
     "execution_count": 9,
     "metadata": {},
     "output_type": "execute_result"
    }
   ],
   "source": [
    "tosses = np.arange(50, 401, 50)\n",
    "heads = np.arange(25, 201, 25)\n",
    "chance_and_approx = Table().with_columns('Tosses', tosses,\n",
    "                                       'Heads', heads)\n",
    "chance_and_approx"
   ]
  },
  {
   "cell_type": "markdown",
   "metadata": {},
   "source": [
    "Augment the table with a column labeled `Exact Chance` that contains the chance of $m$ heads in $2m$ tosses, and a column labeled `Approximation` that contains the approximation you found in **b**.\n",
    "\n",
    "Code tips:\n",
    "\n",
    "- Use `np.pi` for $\\pi$\n",
    "- Use `apply` to get an array of exact chances. See for example the construction of the array `different` in [Section 1.4](http://prob140.org/textbook/chapters/Chapter_01/04_Birthday_Problem) of the textbook."
   ]
  },
  {
   "cell_type": "code",
   "execution_count": null,
   "metadata": {},
   "outputs": [],
   "source": [
    "#student\n",
    "def exact_chance(m):\n",
    "    \"\"\"Returns P(m heads in 2m tosses)\"\"\"\n",
    "    return chance_of_heads(2*m, m)\n",
    "\n",
    "exact = ...          # array of exact chances\n",
    "approx = ...         # array of approximations\n",
    "\n",
    "chance_and_approx = chance_and_approx.with_columns('Exact Chance', exact,\n",
    "                                                 'Approximation', approx)\n",
    "chance_and_approx"
   ]
  },
  {
   "cell_type": "code",
   "execution_count": 10,
   "metadata": {},
   "outputs": [
    {
     "data": {
      "text/html": [
       "<table border=\"1\" class=\"dataframe\">\n",
       "    <thead>\n",
       "        <tr>\n",
       "            <th>Tosses</th> <th>Heads</th> <th>Exact Chance</th> <th>Approximation</th>\n",
       "        </tr>\n",
       "    </thead>\n",
       "    <tbody>\n",
       "        <tr>\n",
       "            <td>50    </td> <td>25   </td> <td>0.112275    </td> <td>0.112838     </td>\n",
       "        </tr>\n",
       "        <tr>\n",
       "            <td>100   </td> <td>50   </td> <td>0.0795892   </td> <td>0.0797885    </td>\n",
       "        </tr>\n",
       "        <tr>\n",
       "            <td>150   </td> <td>75   </td> <td>0.0650385   </td> <td>0.065147     </td>\n",
       "        </tr>\n",
       "        <tr>\n",
       "            <td>200   </td> <td>100  </td> <td>0.0563485   </td> <td>0.056419     </td>\n",
       "        </tr>\n",
       "        <tr>\n",
       "            <td>250   </td> <td>125  </td> <td>0.0504122   </td> <td>0.0504627    </td>\n",
       "        </tr>\n",
       "        <tr>\n",
       "            <td>300   </td> <td>150  </td> <td>0.0460275   </td> <td>0.0460659    </td>\n",
       "        </tr>\n",
       "        <tr>\n",
       "            <td>350   </td> <td>175  </td> <td>0.0426183   </td> <td>0.0426487    </td>\n",
       "        </tr>\n",
       "        <tr>\n",
       "            <td>400   </td> <td>200  </td> <td>0.0398693   </td> <td>0.0398942    </td>\n",
       "        </tr>\n",
       "    </tbody>\n",
       "</table>"
      ],
      "text/plain": [
       "Tosses | Heads | Exact Chance | Approximation\n",
       "50     | 25    | 0.112275     | 0.112838\n",
       "100    | 50    | 0.0795892    | 0.0797885\n",
       "150    | 75    | 0.0650385    | 0.065147\n",
       "200    | 100   | 0.0563485    | 0.056419\n",
       "250    | 125   | 0.0504122    | 0.0504627\n",
       "300    | 150   | 0.0460275    | 0.0460659\n",
       "350    | 175   | 0.0426183    | 0.0426487\n",
       "400    | 200   | 0.0398693    | 0.0398942"
      ]
     },
     "execution_count": 10,
     "metadata": {},
     "output_type": "execute_result"
    }
   ],
   "source": [
    "#solution\n",
    "def exact_chance(m):\n",
    "    \"\"\"Returns P(m heads in 2m tosses)\"\"\"\n",
    "    return chance_of_heads(2*m, m)\n",
    "\n",
    "exact = chance_and_approx.apply(exact_chance, 'Heads')\n",
    "approx = (np.pi * heads) ** -0.5\n",
    "\n",
    "chance_and_approx = chance_and_approx.with_columns('Exact Chance', exact,\n",
    "                                                 'Approximation', approx)\n",
    "chance_and_approx"
   ]
  },
  {
   "cell_type": "markdown",
   "metadata": {},
   "source": [
    "That's a great approximation! Run the cell below for a visual comparison."
   ]
  },
  {
   "cell_type": "code",
   "execution_count": 11,
   "metadata": {},
   "outputs": [
    {
     "data": {
      "image/png": "[encoded data removed]",
      "text/plain": [
       "<matplotlib.figure.Figure at 0x102233b38>"
      ]
     },
     "metadata": {},
     "output_type": "display_data"
    }
   ],
   "source": [
    "chance_and_approx.drop('Heads').scatter('Tosses')"
   ]
  },
  {
   "cell_type": "markdown",
   "metadata": {},
   "source": [
    "#solution\n",
    "\n",
    "### [Student Solution] More Approximations ###\n",
    "\n",
    "**a)** If you make $n$ bets, the chance of losing them all is $\\big{(} 1 - \\frac{1}{M} \\big{)}^n$. This is allowed to be at most 1/2. Solve the inequality $\\big{(} 1 - \\frac{1}{M} \\big{)}^n \\le \\frac{1}{2}$ by taking the log on both sides and remembering that the log of a fraction is negative. So $n \\ge \\frac{\\log(1/2)}{\\log(1 - 1/M)}$. \n",
    "\n",
    "$M$ is large, so the denominator is the log of a number close to 1. Use $\\log(1 + x) \\sim x$ for small $x$, to get that $n$ should be roughly $\\frac{\\log(1/2)}{-1/M} = M\\log(2) \\approx 0.693M$ which is linear in $M$.\n",
    "\n",
    "In ancient days, gamblers knew from experience that the answer is about 2/3 of $M$. That was some pretty impressive data science on their part, long before logarithms were developed.\n",
    "\n",
    "**b)** By the previous problem, the chance of $m$ heads in $2m$ tosses is\n",
    "$$\n",
    "\\frac{(2m)!}{m!m!} \\cdot 2^{-2m} ~ \\sim ~ \\frac{\\sqrt{2\\pi(2m)} \\cdot (2m/e)^{2m}}{2\\pi m \\cdot (m/e)^{2m}} \\cdot 2^{-2m} ~ = ~ \\frac{\\sqrt{\\pi m}}{\\pi m} ~ = ~ \\frac{1}{\\sqrt{\\pi m}} ~ \\to ~ 0 \\text{ as } m \\to \\infty\n",
    "$$"
   ]
  },
  {
   "cell_type": "markdown",
   "metadata": {},
   "source": [
    "## Submission Instructions ##\n",
    "\n",
    "Many assignments throughout the course will have a written portion and a code portion. Please follow the directions below to properly submit both portions.\n",
    "\n",
    "### Written Portion ###\n",
    "*  Scan all the pages into a PDF. You can use any scanner or a phone using applications such as CamScanner. Please **DO NOT** simply take pictures using your phone. \n",
    "* Please start a new page for each question. If you have already written multiple questions on the same page, you can crop the image in CamScanner or fold your page over (the old-fashioned way). This helps expedite grading.\n",
    "* It is your responsibility to check that all the work on all the scanned pages is legible.\n",
    "\n",
    "### Code Portion ###\n",
    "* Save your notebook using File > Save and Checkpoint.\n",
    "* Generate a PDF file using File > Download as > PDF via LaTeX. This might take a few seconds and will automatically download a PDF version of this notebook.\n",
    "    * If you have issues, please make a follow-up post on the general HW 1 Piazza thread.\n",
    "    \n",
    "### Submitting ###\n",
    "* Combine the PDFs from the written and code portions into one PDF.  [Here](https://smallpdf.com/merge-pdf) is a useful tool for doing so. \n",
    "* Submit the assignment to Homework 1 on Gradescope. \n",
    "* **Make sure to assign each page of your pdf to the correct question.**\n",
    "* **It is your responsibility to verify that all of your work shows up in your final PDF submission.**"
   ]
  }
 ],
 "metadata": {
  "kernelspec": {
   "display_name": "Python 3",
   "language": "python",
   "name": "python3"
  },
  "language_info": {
   "codemirror_mode": {
    "name": "ipython",
    "version": 3
   },
   "file_extension": ".py",
   "mimetype": "text/x-python",
   "name": "python",
   "nbconvert_exporter": "python",
   "pygments_lexer": "ipython3",
   "version": "3.6.0"
  }
 },
 "nbformat": 4,
 "nbformat_minor": 2
}
